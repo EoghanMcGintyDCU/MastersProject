{
 "cells": [
  {
   "cell_type": "code",
   "execution_count": 11,
   "metadata": {},
   "outputs": [
    {
     "name": "stdout",
     "output_type": "stream",
     "text": [
      "-----------\n",
      "Initializing structure...\n",
      "time for choose_chunkdivision = 0.000132084 s\n",
      "Working in 1D dimensions.\n",
      "Computational cell is 0 x 0 x 12 with resolution 200\n",
      "time for set_epsilon = 0.000920057 s\n",
      "-----------\n",
      "field decay(t = 50.0025): 0.250189327739215 / 0.250189327739215 = 1.0\n",
      "field decay(t = 100.0025): 4.358317244783321e-16 / 0.250189327739215 = 1.7420076564281815e-15\n",
      "run 0 finished at t = 100.0025 (40001 timesteps)\n",
      "-----------\n",
      "Initializing structure...\n",
      "time for choose_chunkdivision = 0.000130177 s\n",
      "Working in 1D dimensions.\n",
      "Computational cell is 0 x 0 x 12 with resolution 200\n",
      "     sphere, center = (0,0,3)\n",
      "          radius 0.0012\n",
      "          dielectric constant epsilon diagonal = (1,1,1)\n",
      "time for set_epsilon = 0.000943899 s\n",
      "lorentzian susceptibility: frequency=10.7433, gamma=1.78571\n",
      "lorentzian susceptibility: frequency=3.47141, gamma=2.01155\n",
      "lorentzian susceptibility: frequency=2.39466, gamma=0.701702\n",
      "lorentzian susceptibility: frequency=0.66944, gamma=0.278261\n",
      "lorentzian susceptibility: frequency=0.33472, gamma=0.19438\n",
      "drude susceptibility: frequency=1e-10, gamma=0.0427474\n",
      "-----------\n",
      "field decay(t = 50.0025): 0.250189327739215 / 0.250189327739215 = 1.0\n",
      "on time step 34523 (time=86.3075), 0.000115866 s/step\n",
      "field decay(t = 100.0025): 7.569494601745894e-16 / 0.250189327739215 = 3.0255065914066336e-15\n",
      "run 0 finished at t = 100.0025 (40001 timesteps)\n"
     ]
    }
   ],
   "source": [
    "import meep as mp\n",
    "from meep.materials import Au\n",
    "import numpy as np\n",
    "import math\n",
    "import matplotlib.pyplot as plt\n",
    "\n",
    "resolution = 200  # pixels/μm\n",
    "\n",
    "dpml = 1.0\n",
    "sz = 10+2*dpml\n",
    "cell_size = mp.Vector3(z=sz)\n",
    "pml_layers = [mp.PML(dpml)]\n",
    "\n",
    "wvl_min = 0.4\n",
    "wvl_max = 0.8\n",
    "fmin = 1/wvl_max\n",
    "fmax = 1/wvl_min\n",
    "fcen = 0.5*(fmax+fmin)\n",
    "df = fmax-fmin\n",
    "nfreq = 50\n",
    "\n",
    "sources = [mp.Source(mp.GaussianSource(fcen,fwidth=df), component=mp.Ex, center=mp.Vector3(z=-0.5*sz+dpml))]\n",
    "\n",
    "sim = mp.Simulation(cell_size=cell_size,\n",
    "                    boundary_layers=pml_layers,\n",
    "                    sources=sources,\n",
    "                    dimensions=1,\n",
    "                    resolution=resolution)\n",
    "\n",
    "refl_fr = mp.FluxRegion(center=mp.Vector3(z=-0.25*sz))\n",
    "refl = sim.add_flux(fcen, df, nfreq, refl_fr)\n",
    "\n",
    "sim.run(until_after_sources=mp.stop_when_fields_decayed(50, mp.Ex, mp.Vector3(), 1e-9))\n",
    "\n",
    "empty_flux = mp.get_fluxes(refl)\n",
    "empty_data = sim.get_flux_data(refl)\n",
    "sim.reset_meep()\n",
    "\n",
    "geometry = [mp.Sphere(0.0001*sz, center=mp.Vector3(z=0.25*sz), material=Au)]\n",
    "\n",
    "sim = mp.Simulation(cell_size=cell_size,\n",
    "                    boundary_layers=pml_layers,\n",
    "                    geometry=geometry,\n",
    "                    sources=sources,\n",
    "                    dimensions=1,\n",
    "                    resolution=resolution)\n",
    "\n",
    "refl = sim.add_flux(fcen, df, nfreq, refl_fr)\n",
    "sim.load_minus_flux_data(refl, empty_data)\n",
    "\n",
    "sim.run(until_after_sources=mp.stop_when_fields_decayed(50, mp.Ex, mp.Vector3(), 1e-9))\n",
    "\n",
    "refl_flux = mp.get_fluxes(refl)\n",
    "R_meep = -1*np.divide(refl_flux,empty_flux)"
   ]
  },
  {
   "cell_type": "code",
   "execution_count": 12,
   "metadata": {},
   "outputs": [
    {
     "data": {
      "image/png": "[encoded data removed]",
      "text/plain": [
       "<Figure size 432x288 with 1 Axes>"
      ]
     },
     "metadata": {
      "needs_background": "light"
     },
     "output_type": "display_data"
    }
   ],
   "source": [
    "freqs = mp.get_flux_freqs(refl)\n",
    "wvls = np.divide(1,freqs)\n",
    "\n",
    "plt.figure()\n",
    "plt.plot(wvls,R_meep,'bo-',label='meep')\n",
    "plt.xlabel(\"wavelength (μm)\")\n",
    "plt.ylabel(\"reflectance\")\n",
    "plt.xticks([t for t in np.arange(0.4,0.9,0.1)])\n",
    "plt.legend(loc='upper right')\n",
    "plt.show()"
   ]
  },
  {
   "cell_type": "code",
   "execution_count": null,
   "metadata": {},
   "outputs": [],
   "source": []
  }
 ],
 "metadata": {
  "interpreter": {
   "hash": "67aafb1274450eb41fe23335b884caa49619c164cb562f6dc9e663d3ab9d3bd0"
  },
  "kernelspec": {
   "display_name": "Python 3.9.7 ('mp')",
   "language": "python",
   "name": "python3"
  },
  "language_info": {
   "codemirror_mode": {
    "name": "ipython",
    "version": 3
   },
   "file_extension": ".py",
   "mimetype": "text/x-python",
   "name": "python",
   "nbconvert_exporter": "python",
   "pygments_lexer": "ipython3",
   "version": "3.9.7"
  },
  "orig_nbformat": 4
 },
 "nbformat": 4,
 "nbformat_minor": 2
}
