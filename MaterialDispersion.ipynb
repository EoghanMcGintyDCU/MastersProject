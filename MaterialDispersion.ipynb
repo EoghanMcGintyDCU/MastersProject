{
 "cells": [
  {
   "cell_type": "code",
   "execution_count": 1,
   "metadata": {},
   "outputs": [
    {
     "name": "stdout",
     "output_type": "stream",
     "text": [
      "-----------\n",
      "Initializing structure...\n",
      "time for choose_chunkdivision = 0.000118971 s\n",
      "Working in 1D dimensions.\n",
      "Computational cell is 0 x 0 x 4.4 with resolution 80\n",
      "time for set_epsilon = 0.00020504 s\n",
      "-----------\n",
      "field decay(t = 50.00625): 0.2526508967262588 / 0.2526508967262588 = 1.0\n",
      "field decay(t = 100.0125): 2.823003198446281e-16 / 0.2526508967262588 = 1.1173533262796757e-15\n",
      "run 0 finished at t = 100.0125 (16002 timesteps)\n",
      "-----------\n",
      "Initializing structure...\n",
      "time for choose_chunkdivision = 4.31538e-05 s\n",
      "Working in 1D dimensions.\n",
      "Computational cell is 0 x 0 x 4.4 with resolution 80\n",
      "     sphere, center = (0,0,0)\n",
      "          radius 1\n",
      "          dielectric constant epsilon diagonal = (1,1,1)\n",
      "time for set_epsilon = 0.000283957 s\n",
      "lorentzian susceptibility: frequency=10.7433, gamma=1.78571\n",
      "lorentzian susceptibility: frequency=3.47141, gamma=2.01155\n",
      "lorentzian susceptibility: frequency=2.39466, gamma=0.701702\n",
      "lorentzian susceptibility: frequency=0.66944, gamma=0.278261\n",
      "lorentzian susceptibility: frequency=0.33472, gamma=0.19438\n",
      "drude susceptibility: frequency=1e-10, gamma=0.0427474\n",
      "-----------\n"
     ]
    },
    {
     "name": "stderr",
     "output_type": "stream",
     "text": [
      "/home/mcgineo/miniconda3/envs/mp/lib/python3.9/site-packages/meep/simulation.py:1343: RuntimeWarning: Note: your sources include frequencies outside the range of validity of the material models. This is fine as long as you eventually only look at outputs (fluxes, resonant modes, etc.) at valid frequencies.\n",
      "  warnings.warn(warn_src, RuntimeWarning)\n",
      "/home/mcgineo/miniconda3/envs/mp/lib/python3.9/site-packages/meep/simulation.py:1347: RuntimeWarning: DFT frequency 5.0 is out of material's range of 0.16131113692089302-4.0327458966810505\n",
      "  warnings.warn(warn_dft_fmt.format(dftf, min_freq, max_freq), RuntimeWarning)\n"
     ]
    },
    {
     "name": "stdout",
     "output_type": "stream",
     "text": [
      "field decay(t = 50.00625): 1.6982314049782504e-20 / 1.6982314049782504e-20 = 1.0\n",
      "field decay(t = 100.0125): 1.3285602201252447e-23 / 1.6982314049782504e-20 = 0.0007823198983546414\n",
      "field decay(t = 150.01875): 1.475535985102337e-24 / 1.6982314049782504e-20 = 8.688662692121363e-05\n",
      "on time step 29415 (time=183.844), 0.000135988 s/step\n",
      "field decay(t = 200.025): 3.1989722058349845e-25 / 1.6982314049782504e-20 = 1.8837080720904193e-05\n",
      "field decay(t = 250.03125): 1.278303320600038e-25 / 1.6982314049782504e-20 = 7.52726228506185e-06\n",
      "field decay(t = 300.0375): 4.0473637209236565e-26 / 1.6982314049782504e-20 = 2.3832816358589788e-06\n",
      "field decay(t = 350.04375000000005): 1.68132384358256e-26 / 1.6982314049782504e-20 = 9.90044017943534e-07\n",
      "on time step 61441 (time=384.006), 0.000124899 s/step\n",
      "field decay(t = 400.05): 5.692569193139589e-27 / 1.6982314049782504e-20 = 3.35205742659817e-07\n",
      "field decay(t = 450.05625000000003): 2.1942813540269624e-27 / 1.6982314049782504e-20 = 1.2920979718044166e-07\n",
      "field decay(t = 500.0625): 7.932073777370998e-28 / 1.6982314049782504e-20 = 4.67078500263195e-08\n",
      "on time step 85147 (time=532.169), 0.000168753 s/step\n",
      "field decay(t = 550.06875): 2.8634326386628444e-28 / 1.6982314049782504e-20 = 1.6861263019096724e-08\n",
      "field decay(t = 600.075): 1.0911370002346933e-28 / 1.6982314049782504e-20 = 6.425137334264925e-09\n",
      "on time step 99098 (time=619.363), 0.000286833 s/step\n",
      "field decay(t = 650.0812500000001): 3.7366347420665426e-29 / 1.6982314049782504e-20 = 2.2003095285559147e-09\n",
      "field decay(t = 700.0875000000001): 1.484938562190891e-29 / 1.6982314049782504e-20 = 8.744029570045014e-10\n",
      "run 0 finished at t = 700.0875000000001 (112014 timesteps)\n"
     ]
    }
   ],
   "source": [
    "import meep as mp\n",
    "from meep.materials import Au\n",
    "import numpy as np\n",
    "import math\n",
    "import matplotlib.pyplot as plt\n",
    "\n",
    "resolution = 80  # pixels/μm\n",
    "\n",
    "radius = 1.0\n",
    "\n",
    "wvl_min = 0.2\n",
    "wvl_max = 1.2\n",
    "\n",
    "dpml = 0.5*wvl_max\n",
    "sz = 2*(2*dpml+radius)\n",
    "cell_size = mp.Vector3(z=sz)\n",
    "pml_layers = [mp.PML(dpml)]\n",
    "\n",
    "fmin = 1/wvl_max\n",
    "fmax = 1/wvl_min\n",
    "fcen = 0.5*(fmax+fmin)\n",
    "df = fmax-fmin\n",
    "nfreq = 100\n",
    "\n",
    "sources = [mp.Source(mp.GaussianSource(fcen,fwidth=df,is_integrated=True), component=mp.Ex, center=mp.Vector3(z=-0.5*sz+dpml))]\n",
    "\n",
    "sim = mp.Simulation(cell_size=cell_size,\n",
    "                    boundary_layers=pml_layers,\n",
    "                    sources=sources,\n",
    "                    dimensions=1,\n",
    "                    resolution=resolution)\n",
    "\n",
    "refl_fr = mp.FluxRegion(center=mp.Vector3(z=-radius-0.5*dpml))\n",
    "refl = sim.add_flux(fcen, df, nfreq, refl_fr)\n",
    "\n",
    "sim.run(until_after_sources=mp.stop_when_fields_decayed(50, mp.Ex, mp.Vector3(), 1e-9))\n",
    "\n",
    "empty_flux = mp.get_fluxes(refl)\n",
    "empty_data = sim.get_flux_data(refl)\n",
    "sim.reset_meep()\n",
    "\n",
    "geometry = [mp.Sphere(radius=radius, center=mp.Vector3(), material=Au)]\n",
    "\n",
    "sim = mp.Simulation(cell_size=cell_size,\n",
    "                    boundary_layers=pml_layers,\n",
    "                    geometry=geometry,\n",
    "                    sources=sources,\n",
    "                    dimensions=1,\n",
    "                    resolution=resolution)\n",
    "\n",
    "refl = sim.add_flux(fcen, df, nfreq, refl_fr)\n",
    "sim.load_minus_flux_data(refl, empty_data)\n",
    "\n",
    "sim.run(until_after_sources=mp.stop_when_fields_decayed(50, mp.Ex, mp.Vector3(), 1e-9))\n",
    "\n",
    "refl_flux = mp.get_fluxes(refl)\n",
    "R_meep = -1*np.divide(refl_flux,empty_flux)"
   ]
  },
  {
   "cell_type": "code",
   "execution_count": 3,
   "metadata": {},
   "outputs": [
    {
     "data": {
      "image/png": "[encoded data removed]",
      "text/plain": [
       "<Figure size 432x288 with 1 Axes>"
      ]
     },
     "metadata": {
      "needs_background": "light"
     },
     "output_type": "display_data"
    }
   ],
   "source": [
    "freqs = mp.get_flux_freqs(refl)\n",
    "wvls = np.divide(1,freqs)\n",
    "\n",
    "plt.figure()\n",
    "plt.plot(wvls,R_meep,'bo-',label='meep')\n",
    "plt.xlabel(\"wavelength (μm)\")\n",
    "plt.ylabel(\"reflectance\")\n",
    "plt.xticks([t for t in np.arange(0.1,1.2,0.1)])\n",
    "plt.legend(loc='upper right')\n",
    "plt.show()"
   ]
  }
 ],
 "metadata": {
  "interpreter": {
   "hash": "67aafb1274450eb41fe23335b884caa49619c164cb562f6dc9e663d3ab9d3bd0"
  },
  "kernelspec": {
   "display_name": "Python 3.9.7 ('mp')",
   "language": "python",
   "name": "python3"
  },
  "language_info": {
   "codemirror_mode": {
    "name": "ipython",
    "version": 3
   },
   "file_extension": ".py",
   "mimetype": "text/x-python",
   "name": "python",
   "nbconvert_exporter": "python",
   "pygments_lexer": "ipython3",
   "version": "3.9.7"
  },
  "orig_nbformat": 4
 },
 "nbformat": 4,
 "nbformat_minor": 2
}
